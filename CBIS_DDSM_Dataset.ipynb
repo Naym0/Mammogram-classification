{
  "nbformat": 4,
  "nbformat_minor": 0,
  "metadata": {
    "colab": {
      "provenance": [],
      "collapsed_sections": [
        "Wi0jTM1Uj9h7",
        "PC9-f1TAkCzU",
        "TgJkpCq_S8eX",
        "85J53h6lkYoB",
        "RtFVRjigknob",
        "AuAU4j8fpFA3",
        "GDtMcmAeplNs",
        "m_dLrVdnKZGl",
        "R8uqkZH1Ztre"
      ],
      "machine_shape": "hm",
      "gpuType": "T4",
      "private_outputs": true
    },
    "kernelspec": {
      "name": "python3",
      "display_name": "Python 3"
    },
    "language_info": {
      "name": "python"
    },
    "accelerator": "GPU"
  },
  "cells": [
    {
      "cell_type": "markdown",
      "source": [
        "# Installations"
      ],
      "metadata": {
        "id": "Wi0jTM1Uj9h7"
      }
    },
    {
      "cell_type": "code",
      "execution_count": null,
      "metadata": {
        "id": "uTvYgc4vc_XQ"
      },
      "outputs": [],
      "source": [
        "!pip install -q datasets opendatasets evaluate"
      ]
    },
    {
      "cell_type": "markdown",
      "source": [
        "# Imports"
      ],
      "metadata": {
        "id": "PC9-f1TAkCzU"
      }
    },
    {
      "cell_type": "code",
      "source": [
        "from datasets import load_dataset, DatasetDict, load_metric, Dataset\n",
        "from transformers import AutoImageProcessor, AutoFeatureExtractor, AutoModelForImageClassification, TrainingArguments, Trainer, ViTForImageClassification, ViTFeatureExtractor, ViTImageProcessor, Swinv2Model\n",
        "from torchvision import transforms\n",
        "from sklearn.metrics import accuracy_score, roc_curve, roc_auc_score\n",
        "from sklearn.utils import resample\n",
        "from sklearn.model_selection import train_test_split\n",
        "from fastai.vision.all import *\n",
        "from torchvision.transforms import (\n",
        "    CenterCrop,\n",
        "    Compose,\n",
        "    Normalize,\n",
        "    RandomHorizontalFlip,\n",
        "    RandomResizedCrop,\n",
        "    Resize,\n",
        "    ToTensor,\n",
        ")\n",
        "import evaluate\n",
        "import datasets\n",
        "import numpy as np\n",
        "import torch\n",
        "import matplotlib.pyplot as plt\n",
        "import pandas as pd\n",
        "import seaborn as sns\n",
        "import opendatasets as od\n",
        "import PIL"
      ],
      "metadata": {
        "id": "w3JX0FzKkFK_"
      },
      "execution_count": null,
      "outputs": []
    },
    {
      "cell_type": "markdown",
      "source": [
        "# Reusable Functions"
      ],
      "metadata": {
        "id": "TgJkpCq_S8eX"
      }
    },
    {
      "cell_type": "code",
      "source": [
        "def convert_to_dataset(data):\n",
        "    dataset = Dataset.from_pandas(data)\n",
        "    return dataset"
      ],
      "metadata": {
        "id": "l2_F1AP3S-kN"
      },
      "execution_count": null,
      "outputs": []
    },
    {
      "cell_type": "markdown",
      "source": [
        "# Import dataset"
      ],
      "metadata": {
        "id": "85J53h6lkYoB"
      }
    },
    {
      "cell_type": "code",
      "source": [
        "data = od.download(\"https://www.kaggle.com/datasets/awsaf49/cbis-ddsm-breast-cancer-image-dataset\")"
      ],
      "metadata": {
        "id": "RK1Fck6oeiX1"
      },
      "execution_count": null,
      "outputs": []
    },
    {
      "cell_type": "code",
      "source": [
        "# from google.colab import drive\n",
        "# drive.mount('/content/drive')"
      ],
      "metadata": {
        "id": "DLOA-XTQm93Q"
      },
      "execution_count": null,
      "outputs": []
    },
    {
      "cell_type": "code",
      "source": [
        "# !cp -r '/content/cbis-ddsm-breast-cancer-image-dataset' /content/drive/MyDrive/Data/"
      ],
      "metadata": {
        "id": "eKaP8n7bnJI9"
      },
      "execution_count": null,
      "outputs": []
    },
    {
      "cell_type": "markdown",
      "source": [
        "# Data exploration"
      ],
      "metadata": {
        "id": "RtFVRjigknob"
      }
    },
    {
      "cell_type": "code",
      "source": [
        "meta = pd.read_csv('/content/cbis-ddsm-breast-cancer-image-dataset/csv/meta.csv')\n",
        "meta.info()"
      ],
      "metadata": {
        "id": "nCgJSET1eiVe"
      },
      "execution_count": null,
      "outputs": []
    },
    {
      "cell_type": "code",
      "source": [
        "meta.head()"
      ],
      "metadata": {
        "id": "im3iYst-eiSt"
      },
      "execution_count": null,
      "outputs": []
    },
    {
      "cell_type": "code",
      "source": [
        "train_data = pd.read_csv('/content/cbis-ddsm-breast-cancer-image-dataset/csv/mass_case_description_train_set.csv')\n",
        "train_data.info()"
      ],
      "metadata": {
        "id": "v9-DVkNZokXD"
      },
      "execution_count": null,
      "outputs": []
    },
    {
      "cell_type": "code",
      "source": [
        "train_data.head()"
      ],
      "metadata": {
        "id": "2m0hg3i8ozDB"
      },
      "execution_count": null,
      "outputs": []
    },
    {
      "cell_type": "code",
      "source": [
        "test_data = pd.read_csv('/content/cbis-ddsm-breast-cancer-image-dataset/csv/mass_case_description_test_set.csv')\n",
        "test_data.info()"
      ],
      "metadata": {
        "id": "nDssndwbooLa"
      },
      "execution_count": null,
      "outputs": []
    },
    {
      "cell_type": "code",
      "source": [
        "test_data.head()"
      ],
      "metadata": {
        "id": "5olghNHron3m"
      },
      "execution_count": null,
      "outputs": []
    },
    {
      "cell_type": "code",
      "source": [
        "dicom_data = pd.read_csv('/content/cbis-ddsm-breast-cancer-image-dataset/csv/dicom_info.csv')\n",
        "dicom_data.info()"
      ],
      "metadata": {
        "id": "dylpKTD4kUmG"
      },
      "execution_count": null,
      "outputs": []
    },
    {
      "cell_type": "code",
      "source": [
        "dicom_data.head()"
      ],
      "metadata": {
        "id": "LFB5Nq32kUrR"
      },
      "execution_count": null,
      "outputs": []
    },
    {
      "cell_type": "code",
      "source": [
        "# check image types\n",
        "dicom_data.SeriesDescription.unique()"
      ],
      "metadata": {
        "id": "kqW0Oa-AkUo4"
      },
      "execution_count": null,
      "outputs": []
    },
    {
      "cell_type": "code",
      "source": [
        "# check image path\n",
        "cropped_images = dicom_data[dicom_data.SeriesDescription=='cropped images'].image_path\n",
        "cropped_images.head()"
      ],
      "metadata": {
        "id": "WCPD6FT7eiQ5"
      },
      "execution_count": null,
      "outputs": []
    },
    {
      "cell_type": "code",
      "source": [
        "full_images = dicom_data[dicom_data.SeriesDescription=='full mammogram images'].image_path\n",
        "full_images.head()"
      ],
      "metadata": {
        "id": "kkm7BsfveiN_"
      },
      "execution_count": null,
      "outputs": []
    },
    {
      "cell_type": "code",
      "source": [
        "roi_images = dicom_data[dicom_data.SeriesDescription=='ROI mask images'].image_path\n",
        "roi_images.head()"
      ],
      "metadata": {
        "id": "Hn8d-vzonotf"
      },
      "execution_count": null,
      "outputs": []
    },
    {
      "cell_type": "markdown",
      "source": [
        "# Data Cleaning"
      ],
      "metadata": {
        "id": "AuAU4j8fpFA3"
      }
    },
    {
      "cell_type": "markdown",
      "source": [
        "Cleaning mass_train"
      ],
      "metadata": {
        "id": "t2ATgIHipx0m"
      }
    },
    {
      "cell_type": "code",
      "source": [
        "# check for null values\n",
        "train_data.isnull().sum()"
      ],
      "metadata": {
        "id": "OZCn-gjxnoqM"
      },
      "execution_count": null,
      "outputs": []
    },
    {
      "cell_type": "code",
      "source": [
        "train_data.head(2)"
      ],
      "metadata": {
        "id": "ubBa1pv0UuaT"
      },
      "execution_count": null,
      "outputs": []
    },
    {
      "cell_type": "code",
      "source": [
        "# fill in nulls using average\n",
        "train_data['mass shape'] = train_data['mass shape'].bfill()\n",
        "train_data['mass margins'] = train_data['mass margins'].bfill()\n",
        "train_data.isnull().sum()"
      ],
      "metadata": {
        "id": "58thG1uSnonr"
      },
      "execution_count": null,
      "outputs": []
    },
    {
      "cell_type": "code",
      "source": [
        "train_data.describe()"
      ],
      "metadata": {
        "id": "DDwghh62qc5Z"
      },
      "execution_count": null,
      "outputs": []
    },
    {
      "cell_type": "markdown",
      "source": [
        "Cleaning mass_test"
      ],
      "metadata": {
        "id": "76Vf5GCGp2jn"
      }
    },
    {
      "cell_type": "code",
      "source": [
        "# check for null values\n",
        "test_data.isnull().sum()"
      ],
      "metadata": {
        "id": "QVAg4fownolP"
      },
      "execution_count": null,
      "outputs": []
    },
    {
      "cell_type": "code",
      "source": [
        "test_data['mass margins'] = test_data['mass margins'].bfill()\n",
        "test_data.isnull().sum()"
      ],
      "metadata": {
        "id": "E87-0OnMqlUg"
      },
      "execution_count": null,
      "outputs": []
    },
    {
      "cell_type": "code",
      "source": [
        "test_data.describe()"
      ],
      "metadata": {
        "id": "5QGIwH_HqlGa"
      },
      "execution_count": null,
      "outputs": []
    },
    {
      "cell_type": "markdown",
      "source": [
        "Update paths in dataset for easy finding"
      ],
      "metadata": {
        "id": "Gy221ADurBLe"
      }
    },
    {
      "cell_type": "code",
      "source": [
        "# set correct image path for image types\n",
        "imdir = imdir = \"/content/drive/MyDrive/Data/cbis-ddsm-breast-cancer-image-dataset/jpeg\""
      ],
      "metadata": {
        "id": "B3yzvpkIgrqf"
      },
      "execution_count": null,
      "outputs": []
    },
    {
      "cell_type": "code",
      "source": [
        "# change directory path of images\n",
        "cropped_images = cropped_images.replace('CBIS-DDSM/jpeg', imdir, regex=True)\n",
        "full_mammo = full_images.replace('CBIS-DDSM/jpeg', imdir, regex=True)\n",
        "roi_img = roi_images.replace('CBIS-DDSM/jpeg', imdir, regex=True)"
      ],
      "metadata": {
        "id": "Rcgy_R8WglIK"
      },
      "execution_count": null,
      "outputs": []
    },
    {
      "cell_type": "code",
      "source": [
        "cropped_images.head()"
      ],
      "metadata": {
        "id": "HpZle9NiNVMb"
      },
      "execution_count": null,
      "outputs": []
    },
    {
      "cell_type": "code",
      "source": [
        "# organize image paths\n",
        "full_dict = dict()\n",
        "cropped_dict = dict()\n",
        "roi_dict = dict()\n",
        "\n",
        "for dicom in full_mammo:\n",
        "    key = dicom.split(\"/\")[7]\n",
        "    full_dict[key] = dicom\n",
        "for dicom in cropped_images:\n",
        "    key = dicom.split(\"/\")[7]\n",
        "    cropped_dict[key] = dicom\n",
        "for dicom in roi_img:\n",
        "    key = dicom.split(\"/\")[7]\n",
        "    roi_dict[key] = dicom"
      ],
      "metadata": {
        "id": "0WE1xb2XQEFN"
      },
      "execution_count": null,
      "outputs": []
    },
    {
      "cell_type": "code",
      "source": [
        "# fix image paths\n",
        "def fix_image_path(data):\n",
        "    # print(data)\n",
        "    for index, img in enumerate(data.values):\n",
        "        img_name = img[11].split(\"/\")[2]\n",
        "        # print(data.iloc[index,11])\n",
        "        data.iloc[index,11] = full_dict[img_name]\n",
        "        img_name = img[12].split(\"/\")[2]\n",
        "        data.iloc[index,12] = cropped_dict[img_name]\n",
        "        img_name = img[13].split(\"/\")[2]\n",
        "        data.iloc[index,13] = roi_dict[img_name]"
      ],
      "metadata": {
        "id": "BHx9h_QvrEgU"
      },
      "execution_count": null,
      "outputs": []
    },
    {
      "cell_type": "code",
      "source": [
        "# apply to datasets\n",
        "fix_image_path(train_data)\n",
        "fix_image_path(test_data)"
      ],
      "metadata": {
        "id": "izUdd-FBrEWR"
      },
      "execution_count": null,
      "outputs": []
    },
    {
      "cell_type": "code",
      "source": [
        "train_data.head()"
      ],
      "metadata": {
        "id": "dmnnb0GMM3MU"
      },
      "execution_count": null,
      "outputs": []
    },
    {
      "cell_type": "code",
      "source": [
        "import PIL\n",
        "\n",
        "for file in cropped_images[0:10]:\n",
        "    cropped_images_show = PIL.Image.open(file)\n",
        "    gray_img= cropped_images_show.convert(\"L\")\n",
        "    plt.imshow(gray_img, cmap='gray')"
      ],
      "metadata": {
        "id": "2opSHqdNgi2S"
      },
      "execution_count": null,
      "outputs": []
    },
    {
      "cell_type": "code",
      "source": [
        "for file in full_mammo[0:10]:\n",
        "    full_mammogram_images_show = PIL.Image.open(file)\n",
        "    gray_img= full_mammogram_images_show.convert(\"L\")\n",
        "    plt.imshow(gray_img, cmap='gray')"
      ],
      "metadata": {
        "id": "BDaktAaJgm-Z"
      },
      "execution_count": null,
      "outputs": []
    },
    {
      "cell_type": "code",
      "source": [
        "for file  in roi_img[0:10]:\n",
        "    ROI_mask_images_show = PIL.Image.open(file)\n",
        "    gray_img= ROI_mask_images_show.convert(\"L\")\n",
        "    plt.imshow(gray_img, cmap='gray')"
      ],
      "metadata": {
        "id": "PAjJy6tTgrO_"
      },
      "execution_count": null,
      "outputs": []
    },
    {
      "cell_type": "markdown",
      "source": [
        "Drop unnecessary columns"
      ],
      "metadata": {
        "id": "i5OE56nNGi4e"
      }
    },
    {
      "cell_type": "code",
      "source": [
        "train_data_clean = train_data.drop([\"patient_id\",\"left or right breast\",\"assessment\",\"subtlety\",\"abnormality type\",\"abnormality id\",], axis=1)\n",
        "test_data_clean = test_data.drop([\"patient_id\",\"left or right breast\",\"assessment\",\"subtlety\",\"abnormality type\",\"abnormality id\",], axis=1)"
      ],
      "metadata": {
        "id": "Ega3NCkRGinH"
      },
      "execution_count": null,
      "outputs": []
    },
    {
      "cell_type": "code",
      "source": [
        "train_data_clean"
      ],
      "metadata": {
        "id": "vuNre2hajp0o"
      },
      "execution_count": null,
      "outputs": []
    },
    {
      "cell_type": "code",
      "source": [
        "dicom_data"
      ],
      "metadata": {
        "id": "FvbUAtaZh5B3"
      },
      "execution_count": null,
      "outputs": []
    },
    {
      "cell_type": "code",
      "source": [
        "labels = [\"Benign\",\"Malignant\"]\n",
        "label2id, id2label = dict(), dict()\n",
        "for i, label in enumerate(labels):\n",
        "    label2id[label] = i\n",
        "    id2label[i] = label\n",
        "\n",
        "id2label[1]"
      ],
      "metadata": {
        "id": "odyFkw7-aIla"
      },
      "execution_count": null,
      "outputs": []
    },
    {
      "cell_type": "markdown",
      "source": [
        "# Data visualization"
      ],
      "metadata": {
        "id": "GDtMcmAeplNs"
      }
    },
    {
      "cell_type": "code",
      "source": [
        "train_data_clean.head()"
      ],
      "metadata": {
        "id": "Z7JfryLxFLAr"
      },
      "execution_count": null,
      "outputs": []
    },
    {
      "cell_type": "code",
      "source": [
        "train_data_clean.shape"
      ],
      "metadata": {
        "id": "8uyv8ssCptU6"
      },
      "execution_count": null,
      "outputs": []
    },
    {
      "cell_type": "code",
      "source": [
        "test_data_clean.head()"
      ],
      "metadata": {
        "id": "uScJeAnh8pdi"
      },
      "execution_count": null,
      "outputs": []
    },
    {
      "cell_type": "code",
      "source": [
        "test_data_clean.shape"
      ],
      "metadata": {
        "id": "BNRW4Wcbq5HT"
      },
      "execution_count": null,
      "outputs": []
    },
    {
      "cell_type": "code",
      "source": [
        "value = dicom_data['SeriesDescription'].value_counts()\n",
        "plt.figure(figsize=(8,6))\n",
        "\n",
        "plt.pie(value, labels=value.index, autopct='%1.1f%%')\n",
        "plt.title('Breast Cancer image types', fontsize=14)\n",
        "plt.show()"
      ],
      "metadata": {
        "id": "jinsben8kZba"
      },
      "execution_count": null,
      "outputs": []
    },
    {
      "cell_type": "code",
      "source": [
        "value = train_data_clean['pathology'].value_counts()\n",
        "plt.figure(figsize=(8,6))\n",
        "\n",
        "plt.pie(value, labels=value.index, autopct='%1.1f%%')\n",
        "plt.title('Breast Cancer Diagnosis Types', fontsize=14)\n",
        "plt.show()"
      ],
      "metadata": {
        "id": "W5c8WCR9rHcR"
      },
      "execution_count": null,
      "outputs": []
    },
    {
      "cell_type": "code",
      "source": [
        "# replace all benign without callback to normal\n",
        "\n",
        "train_data_clean['pathology'] = train_data_clean['pathology'].replace('BENIGN_WITHOUT_CALLBACK', 'BENIGN')\n",
        "test_data_clean['pathology'] = test_data_clean['pathology'].replace('BENIGN_WITHOUT_CALLBACK', 'BENIGN')"
      ],
      "metadata": {
        "id": "-QraQ7o7743q"
      },
      "execution_count": null,
      "outputs": []
    },
    {
      "cell_type": "code",
      "source": [
        "value = train_data_clean['pathology'].value_counts()\n",
        "plt.figure(figsize=(8,6))\n",
        "\n",
        "plt.pie(value, labels=value.index, autopct='%1.1f%%')\n",
        "plt.title('Breast Cancer Diagnosis Types', fontsize=14)\n",
        "plt.show()"
      ],
      "metadata": {
        "id": "GnhcBJG1c8Am"
      },
      "execution_count": null,
      "outputs": []
    },
    {
      "cell_type": "code",
      "source": [
        "value = train_data_clean['mass shape'].value_counts()\n",
        "plt.figure(figsize=(8,6))\n",
        "\n",
        "plt.pie(value, labels=value.index, autopct='%1.1f%%')\n",
        "plt.title('Mass Shapes', fontsize=14)\n",
        "#plt.savefig('/kaggle/working/pathology_distributions_red.png')\n",
        "plt.show()"
      ],
      "metadata": {
        "id": "sbx6wyPUGbJn"
      },
      "execution_count": null,
      "outputs": []
    },
    {
      "cell_type": "code",
      "source": [
        "plt.figure(figsize=(8,6))\n",
        "\n",
        "sns.countplot(train_data_clean, x='mass shape', hue='pathology')\n",
        "plt.title('Mass Shape vs Pathology', fontsize=14)\n",
        "plt.xlabel('Mass Shape')\n",
        "plt.ylabel('Count')\n",
        "plt.legend()\n",
        "# plt.savefig('/kaggle/working/density_pathology_red.png')\n",
        "plt.show()"
      ],
      "metadata": {
        "id": "56oOynpUHY-v"
      },
      "execution_count": null,
      "outputs": []
    },
    {
      "cell_type": "code",
      "source": [
        "value = train_data_clean['mass margins'].value_counts()\n",
        "plt.figure(figsize=(8,6))\n",
        "\n",
        "plt.pie(value, labels=value.index, autopct='%1.1f%%')\n",
        "plt.title('Mass Margins', fontsize=14)\n",
        "#plt.savefig('/kaggle/working/pathology_distributions_red.png')\n",
        "plt.show()"
      ],
      "metadata": {
        "id": "AJ0rTFNdH9aR"
      },
      "execution_count": null,
      "outputs": []
    },
    {
      "cell_type": "code",
      "source": [
        "plt.figure(figsize=(8,6))\n",
        "\n",
        "sns.countplot(train_data_clean, x='mass margins', hue='pathology')\n",
        "plt.title('Mass Margin vs Pathology', fontsize=14)\n",
        "plt.xlabel('Mass Margin')\n",
        "plt.ylabel('Count')\n",
        "plt.legend()\n",
        "# plt.savefig('/kaggle/working/density_pathology_red.png')\n",
        "plt.show()"
      ],
      "metadata": {
        "id": "z582UDD5Ieut"
      },
      "execution_count": null,
      "outputs": []
    },
    {
      "cell_type": "code",
      "source": [
        "plt.figure(figsize=(8,6))\n",
        "\n",
        "sns.countplot(train_data_clean, x='breast_density', hue='pathology')\n",
        "plt.title('Breast Density vs Pathology\\n\\n1: fatty || 2: Scattered Fibroglandular Density\\n3: Heterogenously Dense || 4: Extremely Dense',\n",
        "          fontsize=14)\n",
        "plt.xlabel('Density Grades')\n",
        "plt.ylabel('Count')\n",
        "plt.legend()\n",
        "# plt.savefig('/kaggle/working/density_pathology_red.png')\n",
        "plt.show()"
      ],
      "metadata": {
        "id": "hHsAvVbWeca4"
      },
      "execution_count": null,
      "outputs": []
    },
    {
      "cell_type": "code",
      "source": [
        "# function to display images\n",
        "def display_images(column, number):\n",
        "    # create figure and axes\n",
        "    number_to_visualize = number\n",
        "    rows = 1\n",
        "    cols = number_to_visualize\n",
        "    fig, axes = plt.subplots(rows, cols, figsize=(15, 5))\n",
        "\n",
        "    # Loop through rows and display images\n",
        "    for index, row in train_data_clean.head(number_to_visualize).iterrows():\n",
        "        image_path = row[column]\n",
        "        image = matplotlib.image.imread(image_path)\n",
        "        ax = axes[index]\n",
        "        ax.imshow(image, cmap='gray')\n",
        "        ax.set_title(f\"{row['pathology']}\")\n",
        "        ax.axis('off')\n",
        "    plt.tight_layout()\n",
        "    plt.show()\n",
        "\n",
        "print('Full Mammograms:\\n')\n",
        "display_images('image file path', 5)\n",
        "print('Cropped Mammograms:\\n')\n",
        "display_images('cropped image file path', 5)\n",
        "print('ROI Mammograms:\\n')\n",
        "display_images('ROI mask file path', 5)"
      ],
      "metadata": {
        "id": "LhKl_zXkeuFo"
      },
      "execution_count": null,
      "outputs": []
    },
    {
      "cell_type": "markdown",
      "source": [
        "# Convert dataframe to Dataset"
      ],
      "metadata": {
        "id": "m_dLrVdnKZGl"
      }
    },
    {
      "cell_type": "code",
      "source": [
        "train_data_clean = train_data_clean.drop(['breast_density', 'image view', 'mass shape', 'mass margins'], axis=1)\n",
        "test_data_clean = test_data_clean.drop(['breast_density', 'image view', 'mass shape', 'mass margins'], axis=1)"
      ],
      "metadata": {
        "id": "_6JT8-_wNb38"
      },
      "execution_count": null,
      "outputs": []
    },
    {
      "cell_type": "code",
      "source": [
        "train_data_clean.head()"
      ],
      "metadata": {
        "id": "gpP2dP6vlR34"
      },
      "execution_count": null,
      "outputs": []
    },
    {
      "cell_type": "code",
      "source": [
        "train_data_clean.to_csv('Dataset2-Train.csv', encoding='utf-8', index=False, header=False)"
      ],
      "metadata": {
        "id": "VHKTGeF9MhVg"
      },
      "execution_count": null,
      "outputs": []
    },
    {
      "cell_type": "code",
      "source": [
        "test_data_clean.to_csv('Dataset2-Test.csv', encoding='utf-8', index=False, header=False)"
      ],
      "metadata": {
        "id": "hGYhs3vNMq9c"
      },
      "execution_count": null,
      "outputs": []
    },
    {
      "cell_type": "code",
      "source": [
        "train = convert_to_dataset(train_data_clean)\n",
        "test = convert_to_dataset(test_data_clean)\n",
        "\n",
        "dataset_dict = datasets.DatasetDict({\"train\":train, \"test\":test})"
      ],
      "metadata": {
        "id": "U_HMaRV-RMmw"
      },
      "execution_count": null,
      "outputs": []
    },
    {
      "cell_type": "code",
      "source": [
        "img = Image.open(dataset_dict[\"test\"][\"cropped image file path\"][0])\n",
        "img"
      ],
      "metadata": {
        "id": "o7eu9sjRSFHV"
      },
      "execution_count": null,
      "outputs": []
    },
    {
      "cell_type": "markdown",
      "source": [
        "Drop unnecessary columns"
      ],
      "metadata": {
        "id": "ViF1KnJ3EKSQ"
      }
    },
    {
      "cell_type": "code",
      "source": [
        "dataset_dict"
      ],
      "metadata": {
        "id": "DH2p_ekFRwcX"
      },
      "execution_count": null,
      "outputs": []
    },
    {
      "cell_type": "markdown",
      "source": [
        "# Push to Hugging Face as Dataset 2"
      ],
      "metadata": {
        "id": "R8uqkZH1Ztre"
      }
    },
    {
      "cell_type": "code",
      "source": [
        "from huggingface_hub import notebook_login\n",
        "notebook_login()"
      ],
      "metadata": {
        "id": "22h4yZAgzFPm"
      },
      "execution_count": null,
      "outputs": []
    },
    {
      "cell_type": "code",
      "source": [
        "dataset_dict.push_to_hub(\"Nicole-M/Dataset2\")"
      ],
      "metadata": {
        "id": "5BOKM2J0q3L8"
      },
      "execution_count": null,
      "outputs": []
    }
  ]
}