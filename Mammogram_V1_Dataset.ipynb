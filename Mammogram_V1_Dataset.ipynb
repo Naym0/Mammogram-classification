{
  "nbformat": 4,
  "nbformat_minor": 0,
  "metadata": {
    "colab": {
      "provenance": [],
      "collapsed_sections": [
        "01AmvrbPSSH8",
        "Zw2mpkA-SbuD",
        "qz0WMiFhS3FD",
        "j1oEa-2DcoSt",
        "B9ARh9VoidS5"
      ],
      "machine_shape": "hm",
      "private_outputs": true
    },
    "kernelspec": {
      "name": "python3",
      "display_name": "Python 3"
    },
    "language_info": {
      "name": "python"
    }
  },
  "cells": [
    {
      "cell_type": "markdown",
      "source": [
        "# Installations"
      ],
      "metadata": {
        "id": "eIJPwT0IsChG"
      }
    },
    {
      "cell_type": "code",
      "execution_count": null,
      "metadata": {
        "id": "iUDU9QeXr3wL"
      },
      "outputs": [],
      "source": [
        "!pip install -q datasets"
      ]
    },
    {
      "cell_type": "markdown",
      "source": [
        "# Imports"
      ],
      "metadata": {
        "id": "VfXtrqwjsFhZ"
      }
    },
    {
      "cell_type": "code",
      "source": [
        "from datasets import load_dataset, DatasetDict, load_metric, Dataset\n",
        "from sklearn.metrics import accuracy_score, roc_curve, roc_auc_score\n",
        "from sklearn.utils import resample\n",
        "from sklearn.model_selection import train_test_split\n",
        "import datasets\n",
        "import numpy as np\n",
        "import matplotlib.pyplot as plt\n",
        "import pandas as pd\n",
        "import seaborn as sns\n",
        "import torch"
      ],
      "metadata": {
        "id": "dwr07oSWsH1s"
      },
      "execution_count": null,
      "outputs": []
    },
    {
      "cell_type": "markdown",
      "source": [
        "# Reusable Functions"
      ],
      "metadata": {
        "id": "aBKhsOzbcn2M"
      }
    },
    {
      "cell_type": "code",
      "source": [
        "def convert_to_dataset(data):\n",
        "    dataset = Dataset.from_pandas(data)\n",
        "    return dataset"
      ],
      "metadata": {
        "id": "-l2kL6KWQ_KA"
      },
      "execution_count": null,
      "outputs": []
    },
    {
      "cell_type": "markdown",
      "source": [
        "# Import dataset"
      ],
      "metadata": {
        "id": "VCM1_HNDsVYT"
      }
    },
    {
      "cell_type": "code",
      "source": [
        "dataset = load_dataset(\"hongrui/mammogram_v_1\", split=\"train[:100%]\")"
      ],
      "metadata": {
        "id": "tH6WVos-Lyf1"
      },
      "execution_count": null,
      "outputs": []
    },
    {
      "cell_type": "code",
      "source": [
        "# dataset.save_ to_disk('/content/drive/MyDrive/Pretrained-models/dataset1')"
      ],
      "metadata": {
        "id": "1WOI4Roaf-2c"
      },
      "execution_count": null,
      "outputs": []
    },
    {
      "cell_type": "code",
      "source": [
        "dataset"
      ],
      "metadata": {
        "id": "BPaaUcLzsZcK"
      },
      "execution_count": null,
      "outputs": []
    },
    {
      "cell_type": "markdown",
      "source": [
        "# Data exploration"
      ],
      "metadata": {
        "id": "HTTvWWj4s3pE"
      }
    },
    {
      "cell_type": "code",
      "source": [
        "dataset.features"
      ],
      "metadata": {
        "id": "Wj3tUmIOsZX5"
      },
      "execution_count": null,
      "outputs": []
    },
    {
      "cell_type": "markdown",
      "source": [
        "### Images without Implants without Cancer"
      ],
      "metadata": {
        "id": "01AmvrbPSSH8"
      }
    },
    {
      "cell_type": "code",
      "source": [
        "example = dataset[\"image\"][5]\n",
        "example"
      ],
      "metadata": {
        "id": "FgbeBj0uehMN"
      },
      "execution_count": null,
      "outputs": []
    },
    {
      "cell_type": "code",
      "source": [
        "example = dataset[\"image\"][15]\n",
        "example"
      ],
      "metadata": {
        "id": "pIFvKpsSeg_x"
      },
      "execution_count": null,
      "outputs": []
    },
    {
      "cell_type": "markdown",
      "source": [
        "### Images without Implants with Cancer"
      ],
      "metadata": {
        "id": "Zw2mpkA-SbuD"
      }
    },
    {
      "cell_type": "code",
      "source": [
        "example = dataset[\"image\"][5414]\n",
        "example"
      ],
      "metadata": {
        "id": "pE3vbyXCftB2"
      },
      "execution_count": null,
      "outputs": []
    },
    {
      "cell_type": "code",
      "source": [
        "example = dataset[\"image\"][221]\n",
        "example"
      ],
      "metadata": {
        "id": "fJT1muhKgIb-"
      },
      "execution_count": null,
      "outputs": []
    },
    {
      "cell_type": "code",
      "source": [
        "example = dataset[\"image\"][44]\n",
        "example"
      ],
      "metadata": {
        "id": "JRmcws1tgHr9"
      },
      "execution_count": null,
      "outputs": []
    },
    {
      "cell_type": "markdown",
      "source": [
        "### Image with Implants without Cancer"
      ],
      "metadata": {
        "id": "qz0WMiFhS3FD"
      }
    },
    {
      "cell_type": "code",
      "source": [
        "dataset[\"image\"][171]"
      ],
      "metadata": {
        "id": "Taae7WrrrqQj"
      },
      "execution_count": null,
      "outputs": []
    },
    {
      "cell_type": "markdown",
      "source": [
        "### Images with Implants with Cancer"
      ],
      "metadata": {
        "id": "j1oEa-2DcoSt"
      }
    },
    {
      "cell_type": "code",
      "source": [
        "dataset[\"image\"][6723]"
      ],
      "metadata": {
        "id": "qp5qIWsDcrhw"
      },
      "execution_count": null,
      "outputs": []
    },
    {
      "cell_type": "code",
      "source": [
        "dataset[\"image\"][8721]"
      ],
      "metadata": {
        "id": "OX6O4YBEd4c1"
      },
      "execution_count": null,
      "outputs": []
    },
    {
      "cell_type": "markdown",
      "source": [
        "### Convert DatasetDict to Dataframe"
      ],
      "metadata": {
        "id": "JcdlnlAtTAK6"
      }
    },
    {
      "cell_type": "code",
      "source": [
        "df = pd.DataFrame(dataset)"
      ],
      "metadata": {
        "id": "0jFxbfccs6Bf"
      },
      "execution_count": null,
      "outputs": []
    },
    {
      "cell_type": "code",
      "source": [
        "df.shape"
      ],
      "metadata": {
        "id": "CrbWkXH5RMvw"
      },
      "execution_count": null,
      "outputs": []
    },
    {
      "cell_type": "code",
      "source": [
        "df.head()"
      ],
      "metadata": {
        "id": "b6n6fRvws5-_"
      },
      "execution_count": null,
      "outputs": []
    },
    {
      "cell_type": "code",
      "source": [
        "df.describe()"
      ],
      "metadata": {
        "id": "UdRm6YaDRM63"
      },
      "execution_count": null,
      "outputs": []
    },
    {
      "cell_type": "markdown",
      "source": [
        "# Data Cleaning"
      ],
      "metadata": {
        "id": "8rIwivjTtHd2"
      }
    },
    {
      "cell_type": "code",
      "source": [
        "df.isnull().sum()"
      ],
      "metadata": {
        "id": "eQi740jQRQhD"
      },
      "execution_count": null,
      "outputs": []
    },
    {
      "cell_type": "markdown",
      "source": [
        "Drop columns we don't need"
      ],
      "metadata": {
        "id": "JOsXn3NER85L"
      }
    },
    {
      "cell_type": "code",
      "source": [
        "df = df.drop(['patient_id', 'laterality', 'age', 'BIRADS', 'text'], axis=1)"
      ],
      "metadata": {
        "id": "s1HveO1xR8he"
      },
      "execution_count": null,
      "outputs": []
    },
    {
      "cell_type": "markdown",
      "source": [
        "# Data Visualization"
      ],
      "metadata": {
        "id": "qxwLxFBptQYW"
      }
    },
    {
      "cell_type": "code",
      "source": [
        "value = df['cancer'].value_counts()\n",
        "plt.figure(figsize=(8,6))\n",
        "\n",
        "plt.pie(value, labels=value.index, autopct='%1.1f%%')\n",
        "plt.title('Breast Cancer Diagnosis Types', fontsize=14)\n",
        "#plt.savefig('/kaggle/working/pathology_distributions_red.png')\n",
        "plt.show()"
      ],
      "metadata": {
        "id": "rsiOFjqYtTuG"
      },
      "execution_count": null,
      "outputs": []
    },
    {
      "cell_type": "code",
      "source": [
        "value = df['text2'].value_counts()\n",
        "plt.figure(figsize=(8,6))\n",
        "\n",
        "plt.pie(value, labels=value.index, autopct='%1.1f%%')\n",
        "plt.title('Diagnosis with implant or without', fontsize=14)\n",
        "#plt.savefig('/kaggle/working/pathology_distributions_red.png')\n",
        "plt.show()"
      ],
      "metadata": {
        "id": "rhOGa47wtTat"
      },
      "execution_count": null,
      "outputs": []
    },
    {
      "cell_type": "code",
      "source": [
        "value = df['view'].value_counts()\n",
        "plt.figure(figsize=(8,6))\n",
        "\n",
        "plt.pie(value, labels=value.index, autopct='%1.1f%%')\n",
        "plt.title('Image Views', fontsize=14)\n",
        "#plt.savefig('/kaggle/working/pathology_distributions_red.png')\n",
        "plt.show()"
      ],
      "metadata": {
        "id": "0A4kVnTCUf8v"
      },
      "execution_count": null,
      "outputs": []
    },
    {
      "cell_type": "code",
      "source": [
        "from matplotlib import pyplot as plt\n",
        "import seaborn as sns\n",
        "df.groupby('density').size().plot(kind='barh', color=sns.palettes.mpl_palette('Dark2'))\n",
        "plt.gca().spines[['top', 'right',]].set_visible(False)"
      ],
      "metadata": {
        "id": "S2peRSabtVUI"
      },
      "execution_count": null,
      "outputs": []
    },
    {
      "cell_type": "markdown",
      "source": [
        "# Drop unnecessary columns"
      ],
      "metadata": {
        "id": "ZTrL19V-UMxk"
      }
    },
    {
      "cell_type": "code",
      "source": [
        "# remove images with implants\n",
        "df = df[df['implant'] == 0]"
      ],
      "metadata": {
        "id": "h0U68p8CVWNL"
      },
      "execution_count": null,
      "outputs": []
    },
    {
      "cell_type": "code",
      "source": [
        "df = df.drop(['invasive', 'view', 'implant', 'density', 'text2'], axis=1)"
      ],
      "metadata": {
        "id": "aex-cIaLUP4L"
      },
      "execution_count": null,
      "outputs": []
    },
    {
      "cell_type": "markdown",
      "source": [
        "# Data Upsampling"
      ],
      "metadata": {
        "id": "eUGvuEquQ0DV"
      }
    },
    {
      "cell_type": "code",
      "source": [
        "df_malignant = df[df['cancer'] == 1]\n",
        "df_benign = df[df['cancer'] == 0]"
      ],
      "metadata": {
        "id": "pM4Xm7OaP0x2"
      },
      "execution_count": null,
      "outputs": []
    },
    {
      "cell_type": "code",
      "source": [
        "df_malignant.shape"
      ],
      "metadata": {
        "id": "_KiZ_8AEP6sV"
      },
      "execution_count": null,
      "outputs": []
    },
    {
      "cell_type": "code",
      "source": [
        "df_benign.shape"
      ],
      "metadata": {
        "id": "sC1PPwyMQBEw"
      },
      "execution_count": null,
      "outputs": []
    },
    {
      "cell_type": "code",
      "source": [
        "# make sure split is even for train and test data\n",
        "train_benign = df_benign.sample(frac=0.7, random_state=42)\n",
        "test_benign = df_benign.drop(train_benign.index)"
      ],
      "metadata": {
        "id": "dPDjb78WN209"
      },
      "execution_count": null,
      "outputs": []
    },
    {
      "cell_type": "code",
      "source": [
        "train_benign.shape"
      ],
      "metadata": {
        "id": "BNvzGAChTl2_"
      },
      "execution_count": null,
      "outputs": []
    },
    {
      "cell_type": "code",
      "source": [
        "test_benign.shape"
      ],
      "metadata": {
        "id": "Urn0axm8TptR"
      },
      "execution_count": null,
      "outputs": []
    },
    {
      "cell_type": "code",
      "source": [
        "train_malignant = df_malignant.sample(frac=0.7, random_state=42)\n",
        "test_malignant = df_malignant.drop(train_malignant.index)"
      ],
      "metadata": {
        "id": "MSCEtD9sfqx4"
      },
      "execution_count": null,
      "outputs": []
    },
    {
      "cell_type": "code",
      "source": [
        "train_malignant.shape"
      ],
      "metadata": {
        "id": "ZuZhlyptfvPt"
      },
      "execution_count": null,
      "outputs": []
    },
    {
      "cell_type": "code",
      "source": [
        "test_malignant.shape"
      ],
      "metadata": {
        "id": "PX_vx7trfxl4"
      },
      "execution_count": null,
      "outputs": []
    },
    {
      "cell_type": "code",
      "source": [
        "train_malignant = resample(train_malignant, replace=True, n_samples=(len(train_malignant)*10), random_state=42)\n",
        "train_malignant.shape"
      ],
      "metadata": {
        "id": "O4S4-QhTQI0J"
      },
      "execution_count": null,
      "outputs": []
    },
    {
      "cell_type": "code",
      "source": [
        "test_malignant = resample(test_malignant, replace=True, n_samples=(len(test_malignant)*10), random_state=42)\n",
        "test_malignant.shape"
      ],
      "metadata": {
        "id": "rcDgAkDPgWSP"
      },
      "execution_count": null,
      "outputs": []
    },
    {
      "cell_type": "markdown",
      "source": [
        "# Concatenate Upsampled data"
      ],
      "metadata": {
        "id": "mzMGfjhgZ3qz"
      }
    },
    {
      "cell_type": "code",
      "source": [
        "train_dataset = pd.concat([train_benign, train_malignant])\n",
        "test_dataset = pd.concat([test_benign, test_malignant])"
      ],
      "metadata": {
        "id": "JypGGeEbT5X_"
      },
      "execution_count": null,
      "outputs": []
    },
    {
      "cell_type": "code",
      "source": [
        "value = train_dataset['cancer'].value_counts()\n",
        "plt.figure(figsize=(8,6))\n",
        "\n",
        "plt.pie(value, labels=value.index, autopct='%1.1f%%')\n",
        "plt.title('Breast Cancer Diagnosis Types in Train data', fontsize=14)\n",
        "#plt.savefig('/kaggle/working/pathology_distributions_red.png')\n",
        "plt.show()"
      ],
      "metadata": {
        "id": "k5Czo4a9E8rz"
      },
      "execution_count": null,
      "outputs": []
    },
    {
      "cell_type": "code",
      "source": [
        "value = test_dataset['cancer'].value_counts()\n",
        "plt.figure(figsize=(8,6))\n",
        "\n",
        "plt.pie(value, labels=value.index, autopct='%1.1f%%')\n",
        "plt.title('Breast Cancer Diagnosis Types in test data', fontsize=14)\n",
        "#plt.savefig('/kaggle/working/pathology_distributions_red.png')\n",
        "plt.show()"
      ],
      "metadata": {
        "id": "RXvMIbUvE_Xn"
      },
      "execution_count": null,
      "outputs": []
    },
    {
      "cell_type": "markdown",
      "source": [
        "# Train-Test Split"
      ],
      "metadata": {
        "id": "HjI1-glmeUHl"
      }
    },
    {
      "cell_type": "code",
      "source": [
        "train_dataset = train_dataset.sample(frac=0.8,random_state=200)\n",
        "val_dataset =df.drop(train_dataset.index)"
      ],
      "metadata": {
        "id": "Z5awT2V24Q6E"
      },
      "execution_count": null,
      "outputs": []
    },
    {
      "cell_type": "code",
      "source": [
        "train_dataset.shape"
      ],
      "metadata": {
        "id": "1kDw8Kgl4c4v"
      },
      "execution_count": null,
      "outputs": []
    },
    {
      "cell_type": "code",
      "source": [
        "val_dataset.shape"
      ],
      "metadata": {
        "id": "83XzRyvq4fWB"
      },
      "execution_count": null,
      "outputs": []
    },
    {
      "cell_type": "code",
      "source": [
        "test_dataset.shape"
      ],
      "metadata": {
        "id": "iD2I3J8C4lIc"
      },
      "execution_count": null,
      "outputs": []
    },
    {
      "cell_type": "code",
      "source": [
        "train_dictionary = train_dataset.to_dict(orient='records')\n",
        "val_dictionary = val_dataset.to_dict(orient='records')\n",
        "test_dictionary = test_dataset.to_dict(orient='records')"
      ],
      "metadata": {
        "id": "yf9a8JEkQYgd"
      },
      "execution_count": null,
      "outputs": []
    },
    {
      "cell_type": "code",
      "source": [
        "train_data = datasets.Dataset.from_list(train_dictionary)\n",
        "train_data"
      ],
      "metadata": {
        "id": "iefjpxEF3u_e"
      },
      "execution_count": null,
      "outputs": []
    },
    {
      "cell_type": "code",
      "source": [
        "val_data = datasets.Dataset.from_list(val_dictionary)\n",
        "val_data"
      ],
      "metadata": {
        "id": "Lytyo7vY4yvc"
      },
      "execution_count": null,
      "outputs": []
    },
    {
      "cell_type": "code",
      "source": [
        "test_data = datasets.Dataset.from_list(test_dictionary)\n",
        "test_data"
      ],
      "metadata": {
        "id": "s6q6yqauZrmE"
      },
      "execution_count": null,
      "outputs": []
    },
    {
      "cell_type": "code",
      "source": [
        "complete_dataset = datasets.DatasetDict({\"train\":train_data, \"validate\":val_data, \"test\":test_data})\n",
        "complete_dataset"
      ],
      "metadata": {
        "id": "qkhNs1JVH6Vq"
      },
      "execution_count": null,
      "outputs": []
    },
    {
      "cell_type": "markdown",
      "source": [
        "# Push to Hugging Face as Dataset 1"
      ],
      "metadata": {
        "id": "B9ARh9VoidS5"
      }
    },
    {
      "cell_type": "code",
      "source": [
        "from huggingface_hub import notebook_login\n",
        "\n",
        "notebook_login()"
      ],
      "metadata": {
        "id": "OwMdt8_Pr_JF"
      },
      "execution_count": null,
      "outputs": []
    },
    {
      "cell_type": "code",
      "source": [
        "complete_dataset.push_to_hub(\"Nicole-M/Dataset1\")"
      ],
      "metadata": {
        "id": "X4-jsJ5ulpai"
      },
      "execution_count": null,
      "outputs": []
    }
  ]
}